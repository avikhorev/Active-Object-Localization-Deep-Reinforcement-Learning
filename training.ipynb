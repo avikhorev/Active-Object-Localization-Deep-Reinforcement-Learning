{
 "cells": [
  {
   "cell_type": "code",
   "execution_count": 1,
   "metadata": {},
   "outputs": [
    {
     "data": {
      "text/plain": []
     },
     "execution_count": 1,
     "metadata": {},
     "output_type": "execute_result"
    }
   ],
   "source": [
    "%%shell\n",
    "FILE=/content/data/PASCALVOC2007.zip\n",
    "if [ ! -f \"$FILE\" ]; then\n",
    "    mkdir /content/data\n",
    "    wget  https://data.deepai.org/PASCALVOC2007.zip -P /content/data\n",
    "    unzip $FILE -d /content/data\n",
    "fi"
   ]
  },
  {
   "cell_type": "code",
   "execution_count": 2,
   "metadata": {},
   "outputs": [],
   "source": [
    "# -*- coding: utf-8 -*-\n",
    "from utils.agent import *\n",
    "from utils.dataset import *\n",
    "from config import *\n",
    "\n",
    "from IPython.display import clear_output\n",
    "\n",
    "import sys\n",
    "import traceback\n",
    "import sys\n",
    "import os\n",
    "import tqdm as tq\n",
    "import seaborn as sns\n",
    "\n",
    "#!pip3 install torch==1.5.1 torchvision==0.6.1 -f https://download.pytorch.org/whl/cu92/torch_stable.html\n",
    "\n",
    "# train_loader2012, val_loader2012 = read_voc_dataset(download=LOAD, year='2012')\n",
    "train_loader2007, val_loader2007 = read_voc_dataset(download=LOAD, year='2007')"
   ]
  },
  {
   "cell_type": "markdown",
   "metadata": {},
   "source": [
    "### Séparation des différents éléments du jeu de données selon la classe."
   ]
  },
  {
   "cell_type": "code",
   "execution_count": 3,
   "metadata": {
    "tags": []
   },
   "outputs": [],
   "source": [
    "classes = [ 'cat', 'dog', 'bird', 'motorbike','diningtable', 'train', 'tvmonitor', 'bus', 'horse', 'car', 'pottedplant', 'person', 'chair', 'boat', 'bottle', 'bicycle', 'aeroplane', 'cow', 'sheep', 'sofa']\n",
    "\n",
    "agents_per_class = {}\n",
    "datasets_per_class = sort_class_extract([train_loader2007])\n",
    "datasets_eval_per_class = sort_class_extract([val_loader2007])"
   ]
  },
  {
   "cell_type": "markdown",
   "metadata": {},
   "source": [
    "### Entraînement sur chaque classe."
   ]
  },
  {
   "cell_type": "code",
   "execution_count": null,
   "metadata": {},
   "outputs": [],
   "source": [
    "def predict_image(agent, datasets_per_class, classe):\n",
    "    for i in range(20):\n",
    "        index = random.choice(list(datasets_per_class[classe].keys()))\n",
    "        image, gt_boxes = extract(index, datasets_per_class[classe])\n",
    "        agent.predict_image(image, plot=True)"
   ]
  },
  {
   "cell_type": "code",
   "execution_count": null,
   "metadata": {},
   "outputs": [],
   "source": [
    "for i in range(len(classes)):\n",
    "    classe = classes[i]\n",
    "    print(f\"Classe {i} :\"+str(classe)+\"...\")\n",
    "    agents_per_class[classe] = Agent(classe, alpha=0.2, num_episodes=1, load=False)\n",
    "    agents_per_class[classe].train(datasets_per_class[classe])\n",
    "    del agents_per_class[classe]\n",
    "    # torch.cuda.empty_cache()"
   ]
  },
  {
   "cell_type": "code",
   "execution_count": null,
   "metadata": {},
   "outputs": [],
   "source": [
    "torch.cuda.empty_cache()\n",
    "results = {}\n",
    "for i in classes:\n",
    "    results[i] = []\n",
    "\n",
    "for i in tq.tqdm(range(len(classes))):\n",
    "    classe = classes[i]\n",
    "    print(\"Class \"+str(classe)+\"...\")\n",
    "    agent = Agent(classe, alpha=0.2, num_episodes=15, load=True)\n",
    "    res = agent.evaluate(datasets_per_class[classe])\n",
    "    results[classe] = res"
   ]
  }
 ],
 "metadata": {
  "kernelspec": {
   "display_name": "Python 3.8.7 64-bit",
   "metadata": {
    "interpreter": {
     "hash": "f71d188589fa6c8d31fecd7a0393a1752396fa7e40fa8670a86f2731027bd0ac"
    }
   },
   "name": "python3"
  },
  "language_info": {
   "codemirror_mode": {
    "name": "ipython",
    "version": 3
   },
   "file_extension": ".py",
   "mimetype": "text/x-python",
   "name": "python",
   "nbconvert_exporter": "python",
   "pygments_lexer": "ipython3",
   "version": "3.7.12"
  },
  "orig_nbformat": 2
 },
 "nbformat": 4,
 "nbformat_minor": 2
}
