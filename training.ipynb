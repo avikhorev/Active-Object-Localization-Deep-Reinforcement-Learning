{
 "cells": [
  {
   "cell_type": "code",
   "execution_count": 1,
   "metadata": {},
   "outputs": [
    {
     "name": "stdout",
     "output_type": "stream",
     "text": [
      "#####################\n",
      "./datasets/\n",
      "VOCdevkit/VOC2007\n",
      "./datasets/VOCdevkit/VOC2007\n",
      "#####################\n",
      "#####################\n",
      "./datasets/\n",
      "VOCdevkit/VOC2007\n",
      "./datasets/VOCdevkit/VOC2007\n",
      "#####################\n"
     ]
    }
   ],
   "source": [
    "# -*- coding: utf-8 -*-\n",
    "from utils.agent import *\n",
    "from utils.dataset import *\n",
    "from config import *\n",
    "\n",
    "from IPython.display import clear_output\n",
    "\n",
    "import sys\n",
    "import traceback\n",
    "import sys\n",
    "import os\n",
    "import tqdm as tq\n",
    "import seaborn as sns\n",
    "\n",
    "#!pip3 install torch==1.5.1 torchvision==0.6.1 -f https://download.pytorch.org/whl/cu92/torch_stable.html\n",
    "\n",
    "# train_loader2012, val_loader2012 = read_voc_dataset(download=LOAD, year='2012')\n",
    "train_loader2007, val_loader2007 = read_voc_dataset(download=LOAD, year='2007')"
   ]
  },
  {
   "cell_type": "markdown",
   "metadata": {},
   "source": [
    "### Séparation des différents éléments du jeu de données selon la classe."
   ]
  },
  {
   "cell_type": "code",
   "execution_count": 2,
   "metadata": {
    "tags": []
   },
   "outputs": [],
   "source": [
    "classes = [ 'cat', 'dog', 'bird', 'motorbike','diningtable', 'train', 'tvmonitor', 'bus', 'horse', 'car', 'pottedplant', 'person', 'chair', 'boat', 'bottle', 'bicycle', 'aeroplane', 'cow', 'sheep', 'sofa']\n",
    "\n",
    "agents_per_class = {}\n",
    "datasets_per_class = sort_class_extract([train_loader2007])\n",
    "datasets_eval_per_class = sort_class_extract([val_loader2007])\n"
   ]
  },
  {
   "cell_type": "markdown",
   "metadata": {},
   "source": [
    "### Entraînement sur chaque classe."
   ]
  },
  {
   "cell_type": "code",
   "execution_count": 3,
   "metadata": {},
   "outputs": [],
   "source": [
    "def predict_image(agent, datasets_per_class, classe):\n",
    "    for i in range(20):\n",
    "        index = random.choice(list(datasets_per_class[classe].keys()))\n",
    "        image, gt_boxes = extract(index, datasets_per_class[classe])\n",
    "        agent.predict_image(image, plot=True)"
   ]
  },
  {
   "cell_type": "code",
   "execution_count": 4,
   "metadata": {},
   "outputs": [
    {
     "name": "stdout",
     "output_type": "stream",
     "text": [
      "Classe 0 :cat...\n",
      "----------------->> False\n",
      "Episode 0\n"
     ]
    },
    {
     "name": "stderr",
     "output_type": "stream",
     "text": [
      "  0%|          | 0/166 [00:00<?, ?it/s]/home/alex/.local/lib/python3.9/site-packages/torch/nn/functional.py:718: UserWarning: Named tensors and all their associated APIs are an experimental feature and subject to change. Please do not use them for anything important until they are released as stable. (Triggered internally at  /pytorch/c10/core/TensorImpl.h:1156.)\n",
      "  return torch.max_pool2d(input, kernel_size, stride, padding, dilation, ceil_mode)\n",
      " 18%|█▊        | 30/166 [00:20<01:21,  1.67it/s]/home/alex/SSS/RL/final/Active-Object-Localization-Deep-Reinforcement-Learning/utils/agent.py:243: UserWarning: volatile was removed and now has no effect. Use `with torch.no_grad():` instead.\n",
      "  non_final_next_states = Variable(torch.cat(next_states),\n",
      "/home/alex/SSS/RL/final/Active-Object-Localization-Deep-Reinforcement-Learning/utils/agent.py:265: UserWarning: volatile was removed and now has no effect. Use `with torch.no_grad():` instead.\n",
      "  next_state_values.volatile = False\n",
      "100%|██████████| 166/166 [06:13<00:00,  2.25s/it]\n"
     ]
    },
    {
     "name": "stdout",
     "output_type": "stream",
     "text": [
      "Saved\n",
      "Complete\n",
      "Classe 1 :dog...\n",
      "----------------->> False\n",
      "Episode 0\n"
     ]
    },
    {
     "name": "stderr",
     "output_type": "stream",
     "text": [
      "100%|██████████| 210/210 [07:51<00:00,  2.25s/it]\n"
     ]
    },
    {
     "name": "stdout",
     "output_type": "stream",
     "text": [
      "Saved\n",
      "Complete\n",
      "Classe 2 :bird...\n",
      "----------------->> False\n",
      "Episode 0\n"
     ]
    },
    {
     "name": "stderr",
     "output_type": "stream",
     "text": [
      "100%|██████████| 182/182 [08:06<00:00,  2.67s/it]\n"
     ]
    },
    {
     "name": "stdout",
     "output_type": "stream",
     "text": [
      "Saved\n",
      "Complete\n",
      "Classe 3 :motorbike...\n",
      "----------------->> False\n",
      "Episode 0\n"
     ]
    },
    {
     "name": "stderr",
     "output_type": "stream",
     "text": [
      "100%|██████████| 123/123 [04:38<00:00,  2.26s/it]\n"
     ]
    },
    {
     "name": "stdout",
     "output_type": "stream",
     "text": [
      "Saved\n",
      "Complete\n",
      "Classe 4 :diningtable...\n",
      "----------------->> False\n",
      "Episode 0\n"
     ]
    },
    {
     "name": "stderr",
     "output_type": "stream",
     "text": [
      "100%|██████████| 130/130 [04:41<00:00,  2.17s/it]\n"
     ]
    },
    {
     "name": "stdout",
     "output_type": "stream",
     "text": [
      "Saved\n",
      "Complete\n",
      "Classe 5 :train...\n",
      "----------------->> False\n",
      "Episode 0\n"
     ]
    },
    {
     "name": "stderr",
     "output_type": "stream",
     "text": [
      "100%|██████████| 128/128 [04:52<00:00,  2.28s/it]\n"
     ]
    },
    {
     "name": "stdout",
     "output_type": "stream",
     "text": [
      "Saved\n",
      "Complete\n",
      "Classe 6 :tvmonitor...\n",
      "----------------->> False\n",
      "Episode 0\n"
     ]
    },
    {
     "name": "stderr",
     "output_type": "stream",
     "text": [
      "100%|██████████| 144/144 [10:07<00:00,  4.22s/it]\n"
     ]
    },
    {
     "name": "stdout",
     "output_type": "stream",
     "text": [
      "Saved\n",
      "Complete\n",
      "Classe 7 :bus...\n",
      "----------------->> False\n",
      "Episode 0\n"
     ]
    },
    {
     "name": "stderr",
     "output_type": "stream",
     "text": [
      "100%|██████████| 100/100 [05:09<00:00,  3.09s/it]\n"
     ]
    },
    {
     "name": "stdout",
     "output_type": "stream",
     "text": [
      "Saved\n",
      "Complete\n",
      "Classe 8 :horse...\n",
      "----------------->> False\n",
      "Episode 0\n"
     ]
    },
    {
     "name": "stderr",
     "output_type": "stream",
     "text": [
      "100%|██████████| 144/144 [06:28<00:00,  2.70s/it]\n"
     ]
    },
    {
     "name": "stdout",
     "output_type": "stream",
     "text": [
      "Saved\n",
      "Complete\n",
      "Classe 9 :car...\n",
      "----------------->> False\n",
      "Episode 0\n"
     ]
    },
    {
     "name": "stderr",
     "output_type": "stream",
     "text": [
      "100%|██████████| 402/402 [25:24<00:00,  3.79s/it]\n"
     ]
    },
    {
     "name": "stdout",
     "output_type": "stream",
     "text": [
      "Saved\n",
      "Complete\n",
      "Classe 10 :pottedplant...\n",
      "----------------->> False\n",
      "Episode 0\n"
     ]
    },
    {
     "name": "stderr",
     "output_type": "stream",
     "text": [
      "100%|██████████| 153/153 [09:32<00:00,  3.74s/it]\n"
     ]
    },
    {
     "name": "stdout",
     "output_type": "stream",
     "text": [
      "Saved\n",
      "Complete\n",
      "Classe 11 :person...\n",
      "----------------->> False\n",
      "Episode 0\n"
     ]
    },
    {
     "name": "stderr",
     "output_type": "stream",
     "text": [
      "100%|██████████| 1070/1070 [1:03:08<00:00,  3.54s/it]\n"
     ]
    },
    {
     "name": "stdout",
     "output_type": "stream",
     "text": [
      "Saved\n",
      "Complete\n",
      "Classe 12 :chair...\n",
      "----------------->> False\n",
      "Episode 0\n"
     ]
    },
    {
     "name": "stderr",
     "output_type": "stream",
     "text": [
      "100%|██████████| 282/282 [20:33<00:00,  4.37s/it]\n"
     ]
    },
    {
     "name": "stdout",
     "output_type": "stream",
     "text": [
      "Saved\n",
      "Complete\n",
      "Classe 13 :boat...\n",
      "----------------->> False\n",
      "Episode 0\n"
     ]
    },
    {
     "name": "stderr",
     "output_type": "stream",
     "text": [
      "100%|██████████| 87/87 [04:12<00:00,  2.90s/it]\n"
     ]
    },
    {
     "name": "stdout",
     "output_type": "stream",
     "text": [
      "Saved\n",
      "Complete\n",
      "Classe 14 :bottle...\n",
      "----------------->> False\n",
      "Episode 0\n"
     ]
    },
    {
     "name": "stderr",
     "output_type": "stream",
     "text": [
      "100%|██████████| 153/153 [10:10<00:00,  3.99s/it]\n"
     ]
    },
    {
     "name": "stdout",
     "output_type": "stream",
     "text": [
      "Saved\n",
      "Complete\n",
      "Classe 15 :bicycle...\n",
      "----------------->> False\n",
      "Episode 0\n"
     ]
    },
    {
     "name": "stderr",
     "output_type": "stream",
     "text": [
      "100%|██████████| 122/122 [06:32<00:00,  3.21s/it]\n"
     ]
    },
    {
     "name": "stdout",
     "output_type": "stream",
     "text": [
      "Saved\n",
      "Complete\n",
      "Classe 16 :aeroplane...\n",
      "----------------->> False\n",
      "Episode 0\n"
     ]
    },
    {
     "name": "stderr",
     "output_type": "stream",
     "text": [
      "100%|██████████| 113/113 [04:33<00:00,  2.42s/it]\n"
     ]
    },
    {
     "name": "stdout",
     "output_type": "stream",
     "text": [
      "Saved\n",
      "Complete\n",
      "Classe 17 :cow...\n",
      "----------------->> False\n",
      "Episode 0\n"
     ]
    },
    {
     "name": "stderr",
     "output_type": "stream",
     "text": [
      "100%|██████████| 71/71 [03:35<00:00,  3.04s/it]\n"
     ]
    },
    {
     "name": "stdout",
     "output_type": "stream",
     "text": [
      "Saved\n",
      "Complete\n",
      "Classe 18 :sheep...\n",
      "----------------->> False\n",
      "Episode 0\n"
     ]
    },
    {
     "name": "stderr",
     "output_type": "stream",
     "text": [
      "100%|██████████| 49/49 [02:06<00:00,  2.58s/it]\n"
     ]
    },
    {
     "name": "stdout",
     "output_type": "stream",
     "text": [
      "Saved\n",
      "Complete\n",
      "Classe 19 :sofa...\n",
      "----------------->> False\n",
      "Episode 0\n"
     ]
    },
    {
     "name": "stderr",
     "output_type": "stream",
     "text": [
      "100%|██████████| 188/188 [07:54<00:00,  2.52s/it]\n"
     ]
    },
    {
     "name": "stdout",
     "output_type": "stream",
     "text": [
      "Saved\n",
      "Complete\n"
     ]
    }
   ],
   "source": [
    "for i in range(len(classes)):\n",
    "    classe = classes[i]\n",
    "    print(f\"Classe {i} :\"+str(classe)+\"...\")\n",
    "    agents_per_class[classe] = Agent(classe, alpha=0.2, num_episodes=1, load=False)\n",
    "    agents_per_class[classe].train(datasets_per_class[classe])\n",
    "    del agents_per_class[classe]\n",
    "    # torch.cuda.empty_cache()"
   ]
  },
  {
   "cell_type": "code",
   "execution_count": 6,
   "metadata": {},
   "outputs": [
    {
     "name": "stderr",
     "output_type": "stream",
     "text": [
      "  0%|          | 0/20 [00:00<?, ?it/s]"
     ]
    },
    {
     "name": "stdout",
     "output_type": "stream",
     "text": [
      "Class cat...\n",
      "----------------->> False\n",
      "Predicting boxes...\n"
     ]
    },
    {
     "name": "stderr",
     "output_type": "stream",
     "text": [
      "  5%|▌         | 1/20 [00:30<09:44, 30.75s/it]"
     ]
    },
    {
     "name": "stdout",
     "output_type": "stream",
     "text": [
      "Computing recall and ap...\n",
      "Final result : \n",
      "              0.1        0.2        0.3        0.4        0.5\n",
      "ap      76.895394  54.133947  41.978993  30.658467  18.680617\n",
      "recall  86.144578  70.481928  61.445783  52.409639  39.156627\n",
      "Class dog...\n",
      "----------------->> False\n",
      "Predicting boxes...\n"
     ]
    },
    {
     "name": "stderr",
     "output_type": "stream",
     "text": [
      " 10%|█         | 2/20 [01:10<10:48, 36.05s/it]"
     ]
    },
    {
     "name": "stdout",
     "output_type": "stream",
     "text": [
      "Computing recall and ap...\n",
      "Final result : \n",
      "              0.1        0.2        0.3        0.4        0.5\n",
      "ap      65.418471  42.016190  23.881444  13.745545   7.589617\n",
      "recall  79.047619  63.333333  47.619048  35.714286  26.190476\n",
      "Class bird...\n",
      "----------------->> False\n",
      "Predicting boxes...\n"
     ]
    },
    {
     "name": "stderr",
     "output_type": "stream",
     "text": [
      " 15%|█▌        | 3/20 [01:53<11:05, 39.15s/it]"
     ]
    },
    {
     "name": "stdout",
     "output_type": "stream",
     "text": [
      "Computing recall and ap...\n",
      "Final result : \n",
      "              0.1        0.2        0.3        0.4        0.5\n",
      "ap      49.341059  24.798472  16.448538  13.135722   6.084254\n",
      "recall  68.131868  46.153846  36.813187  30.769231  21.428571\n",
      "Class motorbike...\n",
      "----------------->> False\n",
      "Predicting boxes...\n"
     ]
    },
    {
     "name": "stderr",
     "output_type": "stream",
     "text": [
      " 20%|██        | 4/20 [02:15<08:36, 32.28s/it]"
     ]
    },
    {
     "name": "stdout",
     "output_type": "stream",
     "text": [
      "Computing recall and ap...\n",
      "Final result : \n",
      "              0.1        0.2        0.3        0.4        0.5\n",
      "ap      61.926419  37.733446  25.068775  16.732328  10.219922\n",
      "recall  74.796748  58.536585  47.154472  36.585366  27.642276\n",
      "Class diningtable...\n",
      "----------------->> False\n",
      "Predicting boxes...\n"
     ]
    },
    {
     "name": "stderr",
     "output_type": "stream",
     "text": [
      " 25%|██▌       | 5/20 [02:37<07:08, 28.59s/it]"
     ]
    },
    {
     "name": "stdout",
     "output_type": "stream",
     "text": [
      "Computing recall and ap...\n",
      "Final result : \n",
      "              0.1        0.2        0.3        0.4        0.5\n",
      "ap      75.480769  39.760925  17.707908   6.423304   2.726907\n",
      "recall  86.153846  62.307692  40.000000  23.846154  14.615385\n",
      "Class train...\n",
      "----------------->> False\n",
      "Predicting boxes...\n"
     ]
    },
    {
     "name": "stderr",
     "output_type": "stream",
     "text": [
      " 30%|███       | 6/20 [02:59<06:08, 26.33s/it]"
     ]
    },
    {
     "name": "stdout",
     "output_type": "stream",
     "text": [
      "Computing recall and ap...\n",
      "Final result : \n",
      "              0.1        0.2        0.3        0.4        0.5\n",
      "ap      64.219493  46.365476  36.570949  20.379283  10.327956\n",
      "recall  78.125000  64.062500  56.250000  43.750000  31.250000\n",
      "Class tvmonitor...\n",
      "----------------->> False\n",
      "Predicting boxes...\n"
     ]
    },
    {
     "name": "stderr",
     "output_type": "stream",
     "text": [
      " 35%|███▌      | 7/20 [03:27<05:50, 26.98s/it]"
     ]
    },
    {
     "name": "stdout",
     "output_type": "stream",
     "text": [
      "Computing recall and ap...\n",
      "Final result : \n",
      "             0.1        0.2        0.3       0.4       0.5\n",
      "ap      14.54001   4.960375   1.508697  0.257516  0.186567\n",
      "recall  37.50000  21.527778  11.111111  4.861111  4.166667\n",
      "Class bus...\n",
      "----------------->> False\n",
      "Predicting boxes...\n"
     ]
    },
    {
     "name": "stderr",
     "output_type": "stream",
     "text": [
      " 40%|████      | 8/20 [03:45<04:48, 24.03s/it]"
     ]
    },
    {
     "name": "stdout",
     "output_type": "stream",
     "text": [
      "Computing recall and ap...\n",
      "Final result : \n",
      "              0.1        0.2        0.3       0.4        0.5\n",
      "ap      43.054923  27.391563  16.939394  13.91847  10.352814\n",
      "recall  64.000000  51.000000  39.000000  35.00000  30.000000\n",
      "Class horse...\n",
      "----------------->> False\n",
      "Predicting boxes...\n"
     ]
    },
    {
     "name": "stderr",
     "output_type": "stream",
     "text": [
      " 45%|████▌     | 9/20 [04:09<04:27, 24.28s/it]"
     ]
    },
    {
     "name": "stdout",
     "output_type": "stream",
     "text": [
      "Computing recall and ap...\n",
      "Final result : \n",
      "              0.1        0.2        0.3        0.4        0.5\n",
      "ap      77.034243  45.436954  25.039352  14.230420   6.202190\n",
      "recall  86.111111  64.583333  47.222222  34.722222  23.611111\n",
      "Class car...\n",
      "----------------->> False\n",
      "Predicting boxes...\n"
     ]
    },
    {
     "name": "stderr",
     "output_type": "stream",
     "text": [
      " 50%|█████     | 10/20 [09:05<18:01, 108.12s/it]"
     ]
    },
    {
     "name": "stdout",
     "output_type": "stream",
     "text": [
      "Computing recall and ap...\n",
      "Final result : \n",
      "              0.1        0.2        0.3        0.4        0.5\n",
      "ap      34.642065  27.169323  18.396877  12.737010   5.167210\n",
      "recall  57.711443  50.497512  41.791045  34.328358  20.895522\n",
      "Class pottedplant...\n",
      "----------------->> False\n",
      "Predicting boxes...\n"
     ]
    },
    {
     "name": "stderr",
     "output_type": "stream",
     "text": [
      " 55%|█████▌    | 11/20 [09:49<13:16, 88.48s/it] "
     ]
    },
    {
     "name": "stdout",
     "output_type": "stream",
     "text": [
      "Computing recall and ap...\n",
      "Final result : \n",
      "              0.1        0.2        0.3        0.4       0.5\n",
      "ap      18.156893   6.748443   3.921311   3.301004  1.783099\n",
      "recall  37.908497  22.222222  15.032680  12.418301  9.803922\n",
      "Class person...\n",
      "----------------->> False\n",
      "Predicting boxes...\n"
     ]
    },
    {
     "name": "stderr",
     "output_type": "stream",
     "text": [
      " 60%|██████    | 12/20 [33:41<1:06:16, 497.03s/it]"
     ]
    },
    {
     "name": "stdout",
     "output_type": "stream",
     "text": [
      "Computing recall and ap...\n",
      "Final result : \n",
      "              0.1        0.2        0.3        0.4        0.5\n",
      "ap      45.830178  28.259465  16.928050   8.594452   3.602713\n",
      "recall  66.915888  52.149533  39.906542  28.504673  18.037383\n",
      "Class chair...\n",
      "----------------->> False\n",
      "Predicting boxes...\n"
     ]
    }
   ],
   "source": [
    "torch.cuda.empty_cache()\n",
    "results = {}\n",
    "for i in classes:\n",
    "    results[i] = []\n",
    "\n",
    "for i in tq.tqdm(range(len(classes))):\n",
    "    classe = classes[i]\n",
    "    print(\"Class \"+str(classe)+\"...\")\n",
    "    agent = Agent(classe, alpha=0.2, num_episodes=1, load=True)\n",
    "    res = agent.evaluate(datasets_per_class[classe])\n",
    "    results[classe] = res"
   ]
  },
  {
   "cell_type": "code",
   "execution_count": null,
   "metadata": {},
   "outputs": [],
   "source": [
    "classe = 'dog'\n",
    "agent = Agent(classe, alpha=0.2, num_episodes=25, load=True)\n",
    "predict_image(agent, datasets_per_class, classe)"
   ]
  }
 ],
 "metadata": {
  "kernelspec": {
   "display_name": "Python 3.8.7 64-bit",
   "metadata": {
    "interpreter": {
     "hash": "f71d188589fa6c8d31fecd7a0393a1752396fa7e40fa8670a86f2731027bd0ac"
    }
   },
   "name": "python3"
  },
  "language_info": {
   "codemirror_mode": {
    "name": "ipython",
    "version": 3
   },
   "file_extension": ".py",
   "mimetype": "text/x-python",
   "name": "python",
   "nbconvert_exporter": "python",
   "pygments_lexer": "ipython3",
   "version": "3.9.7"
  },
  "orig_nbformat": 2
 },
 "nbformat": 4,
 "nbformat_minor": 2
}
